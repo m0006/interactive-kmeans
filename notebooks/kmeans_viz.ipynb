{
 "cells": [
  {
   "cell_type": "markdown",
   "metadata": {},
   "source": [
    "# Simple Interactive Kmeans Visualization\n",
    "## Using plotly, ipywidgets, and scikit-learn's Kmeans algorithm \n"
   ]
  },
  {
   "cell_type": "markdown",
   "metadata": {},
   "source": [
    "<table><tr><td><img src='../images/2d_demo.gif'></td><td><img src='../images/3d_demo.gif'></td></tr></table>"
   ]
  },
  {
   "cell_type": "markdown",
   "metadata": {},
   "source": [
    "### [2D Widget](#2DWidget)\n",
    "### [3D Widget](#3DWidget)\n",
    "#### Next steps:\n",
    "* Create a toggle button to toggle between 2D and 3D in one interactive plot\n",
    "* Add more widgets for Kmeans algo parameters to adjust predictions"
   ]
  },
  {
   "cell_type": "markdown",
   "metadata": {},
   "source": [
    "### Imports"
   ]
  },
  {
   "cell_type": "code",
   "execution_count": 1,
   "metadata": {},
   "outputs": [
    {
     "data": {
      "text/html": [
       "<script>requirejs.config({paths: { 'plotly': ['https://cdn.plot.ly/plotly-latest.min']},});if(!window.Plotly) {{require(['plotly'],function(plotly) {window.Plotly=plotly;});}}</script>"
      ],
      "text/vnd.plotly.v1+html": [
       "<script>requirejs.config({paths: { 'plotly': ['https://cdn.plot.ly/plotly-latest.min']},});if(!window.Plotly) {{require(['plotly'],function(plotly) {window.Plotly=plotly;});}}</script>"
      ]
     },
     "metadata": {},
     "output_type": "display_data"
    }
   ],
   "source": [
    "import pandas as pd\n",
    "import numpy as np\n",
    "\n",
    "import plotly as py\n",
    "import plotly.graph_objs as go\n",
    "\n",
    "import ipywidgets as widgets\n",
    "from IPython.display import display, HTML\n",
    "\n",
    "from sklearn.cluster import KMeans\n",
    "from sklearn.datasets import make_blobs\n",
    "\n",
    "py.offline.init_notebook_mode(connected=True)"
   ]
  },
  {
   "cell_type": "markdown",
   "metadata": {},
   "source": [
    "### Widgets and layouts"
   ]
  },
  {
   "cell_type": "code",
   "execution_count": 2,
   "metadata": {},
   "outputs": [],
   "source": [
    "layout = go.Layout(\n",
    "    title='Kmeans Interactive Visualization',\n",
    "    autosize=False,\n",
    "    width=750,\n",
    "    height=500\n",
    ")\n",
    "\n",
    "style = {\n",
    "    'description_width': 'initial'\n",
    "}\n",
    "\n",
    "# widgets\n",
    "sample_input = widgets.IntSlider(\n",
    "    min=2, \n",
    "    max=10000, \n",
    "    value=1000, \n",
    "    description='N_samples: ',\n",
    "    style=style,\n",
    "    continuous_update=False\n",
    ")\n",
    "\n",
    "center_input = widgets.IntSlider(\n",
    "    min=1, \n",
    "    max=40, \n",
    "    value=1, \n",
    "    description='Centers: ', \n",
    "    style=style,\n",
    "    continuous_update=False\n",
    ")\n",
    "\n",
    "cluster_input = widgets.BoundedIntText(\n",
    "    min=2, \n",
    "    max=100, \n",
    "    value=8, \n",
    "    description='N_clusters: ', \n",
    "    style=style\n",
    ")\n",
    "\n",
    "sample_input3D = widgets.IntSlider(\n",
    "    min=2, \n",
    "    max=10000, \n",
    "    value=1000, \n",
    "    description='N_samples: ',\n",
    "    style=style,\n",
    "    continuous_update=False\n",
    ")\n",
    "\n",
    "center_input3D = widgets.IntSlider(\n",
    "    min=1, \n",
    "    max=40, \n",
    "    value=1, \n",
    "    description='Centers: ', \n",
    "    style=style,\n",
    "    continuous_update=False\n",
    ")\n",
    "\n",
    "cluster_input3D = widgets.BoundedIntText(\n",
    "    min=2, \n",
    "    max=100, \n",
    "    value=8, \n",
    "    description='N_clusters: ', \n",
    "    style=style\n",
    ")\n",
    "\n",
    "\n",
    "# scatter_controls = widgets.HBox(children=[sample_input, center_input])\n",
    "# algo_controls = widgets.HBox(children=[cluster_input])"
   ]
  },
  {
   "cell_type": "code",
   "execution_count": 3,
   "metadata": {},
   "outputs": [],
   "source": [
    "class Blobs:\n",
    " \n",
    "    def __init__(self): \n",
    "        pass\n",
    "        \n",
    "        \n",
    "    def generate_data(self):\n",
    "        self.X, y = make_blobs(\n",
    "            n_samples=sample_input.value,                    \n",
    "            centers=center_input.value, \n",
    "            random_state=None\n",
    "        )\n",
    "        return self.X\n",
    "\n",
    "    \n",
    "    def predict(self):\n",
    "        self.y_predict = KMeans(n_clusters=cluster_input.value).fit_predict(self.X)\n",
    "        return self.y_predict\n",
    "    \n",
    "    \n",
    "    def generate_3D_data(self):\n",
    "        self.X3D, y = make_blobs(\n",
    "            n_samples=sample_input3D.value, \n",
    "            centers=center_input3D.value, \n",
    "            n_features=3, \n",
    "            random_state=None\n",
    "        )\n",
    "        return self.X3D\n",
    "\n",
    "    \n",
    "    def predict3D(self):\n",
    "        self.y_predict3D = KMeans(n_clusters=cluster_input3D.value).fit_predict(self.X3D)\n",
    "        return self.y_predict3D"
   ]
  },
  {
   "cell_type": "markdown",
   "metadata": {},
   "source": [
    "### <a name=\"2DWidget\"></a>2D Widget"
   ]
  },
  {
   "cell_type": "code",
   "execution_count": 4,
   "metadata": {},
   "outputs": [],
   "source": [
    "state = Blobs()\n",
    "state.X = state.generate_data()\n",
    "state.y_predict = state.predict()"
   ]
  },
  {
   "cell_type": "code",
   "execution_count": 5,
   "metadata": {},
   "outputs": [],
   "source": [
    "def scatter_responses(*args):\n",
    "    '''\n",
    "    Limits center_input <= sample_input.\n",
    "    \n",
    "    Updates scatter generation params.\n",
    "    '''\n",
    "    center_input.max = sample_input.value\n",
    "\n",
    "    state.X, y = make_blobs(\n",
    "        n_samples=sample_input.value, \n",
    "        centers=center_input.value, \n",
    "        random_state=None\n",
    "    )\n",
    "    \n",
    "    \n",
    "    \n",
    "def algo_responses(*args):\n",
    "    '''\n",
    "    Limits cluster_input <= sample_input.\n",
    "    '''\n",
    "    cluster_input.max = sample_input.value\n",
    "    \n",
    "\n",
    "def update_plot(n_samples, centers, n_clusters):\n",
    "    \n",
    "    state.y_predict = KMeans(n_clusters=cluster_input.value).fit_predict(state.X)    \n",
    "    \n",
    "    trace1 = go.Scatter(\n",
    "        x=state.X[:,0],\n",
    "        y=state.X[:,-1],\n",
    "        mode='markers',\n",
    "        marker = dict(\n",
    "            symbol='hexagon',\n",
    "            size = 12,\n",
    "            color = state.y_predict,\n",
    "            colorscale='Jet',\n",
    "            line = dict(\n",
    "                width = 1,\n",
    "                color = 'black'\n",
    "            )\n",
    "        )\n",
    "    )\n",
    "    \n",
    "    fig = go.Figure(data=[trace1], layout=layout)\n",
    "    py.offline.iplot(fig)"
   ]
  },
  {
   "cell_type": "code",
   "execution_count": 6,
   "metadata": {},
   "outputs": [],
   "source": [
    "sample_input.observe(scatter_responses, 'value')\n",
    "center_input.observe(scatter_responses, 'value')\n",
    "\n",
    "cluster_input.observe(algo_responses, 'value')"
   ]
  },
  {
   "cell_type": "code",
   "execution_count": 7,
   "metadata": {},
   "outputs": [
    {
     "data": {
      "application/vnd.jupyter.widget-view+json": {
       "model_id": "bf0ebfff4f63402a8c4d9d09c1ed0629",
       "version_major": 2,
       "version_minor": 0
      },
      "text/plain": [
       "interactive(children=(IntSlider(value=1000, continuous_update=False, description='N_samples: ', max=10000, min…"
      ]
     },
     "metadata": {},
     "output_type": "display_data"
    }
   ],
   "source": [
    "widgets.interactive(\n",
    "    update_plot, \n",
    "    n_samples=sample_input, \n",
    "    centers=center_input, \n",
    "    n_clusters=cluster_input\n",
    ")"
   ]
  },
  {
   "cell_type": "markdown",
   "metadata": {},
   "source": [
    "### <a name=\"3DWidget\"></a>3D Widget"
   ]
  },
  {
   "cell_type": "code",
   "execution_count": 8,
   "metadata": {},
   "outputs": [],
   "source": [
    "state.X3D = state.generate_3D_data()\n",
    "state.y_predict3D = state.predict3D()"
   ]
  },
  {
   "cell_type": "code",
   "execution_count": 9,
   "metadata": {},
   "outputs": [],
   "source": [
    "def scatter_responses3D(*args):\n",
    "    '''\n",
    "    Limits center_input <= sample_input.\n",
    "    \n",
    "    Updates scatter generation params.\n",
    "    '''\n",
    "    center_input3D.max = sample_input3D.value\n",
    "\n",
    "    state.X3D, y = make_blobs(\n",
    "        n_samples=sample_input3D.value, \n",
    "        centers=center_input3D.value, \n",
    "        n_features=3, \n",
    "        random_state=None\n",
    "    )\n",
    "    \n",
    "    \n",
    "    \n",
    "def algo_responses3D(*args):\n",
    "    '''\n",
    "    Limits cluster_input <= sample_input.\n",
    "    '''\n",
    "    cluster_input3D.max = sample_input3D.value\n",
    "    \n",
    "\n",
    "def update_plot_3D(n_samples, centers, n_clusters):\n",
    "    \n",
    "    state.y_predict3D = KMeans(n_clusters=cluster_input3D.value).fit_predict(state.X3D)\n",
    "    \n",
    "    trace1 = go.Scatter3d(\n",
    "        x=state.X3D[:,0],\n",
    "        y=state.X3D[:,1],\n",
    "        z=state.X3D[:,2],\n",
    "        mode='markers',\n",
    "        marker = dict(\n",
    "            size = 6,\n",
    "            color = state.y_predict3D,\n",
    "            colorscale='Jet',\n",
    "            line = dict(\n",
    "                width = 1,\n",
    "                color = 'black'\n",
    "            )\n",
    "        )\n",
    "    )\n",
    "    \n",
    "    fig = go.Figure(data=[trace1], layout=layout)\n",
    "    py.offline.iplot(fig)"
   ]
  },
  {
   "cell_type": "code",
   "execution_count": 10,
   "metadata": {},
   "outputs": [],
   "source": [
    "sample_input3D.observe(scatter_responses3D, 'value')\n",
    "center_input3D.observe(scatter_responses3D, 'value')\n",
    "\n",
    "cluster_input3D.observe(algo_responses3D, 'value')"
   ]
  },
  {
   "cell_type": "code",
   "execution_count": 11,
   "metadata": {},
   "outputs": [
    {
     "data": {
      "application/vnd.jupyter.widget-view+json": {
       "model_id": "10bf18960b9d4b759c5f7579150e2032",
       "version_major": 2,
       "version_minor": 0
      },
      "text/plain": [
       "interactive(children=(IntSlider(value=1000, continuous_update=False, description='N_samples: ', max=10000, min…"
      ]
     },
     "metadata": {},
     "output_type": "display_data"
    }
   ],
   "source": [
    "widgets.interactive(\n",
    "    update_plot_3D, \n",
    "    n_samples=sample_input3D, \n",
    "    centers=center_input3D, \n",
    "    n_clusters=cluster_input3D\n",
    ")"
   ]
  }
 ],
 "metadata": {
  "kernelspec": {
   "display_name": "Python 3",
   "language": "python",
   "name": "python3"
  },
  "language_info": {
   "codemirror_mode": {
    "name": "ipython",
    "version": 3
   },
   "file_extension": ".py",
   "mimetype": "text/x-python",
   "name": "python",
   "nbconvert_exporter": "python",
   "pygments_lexer": "ipython3",
   "version": "3.6.0"
  }
 },
 "nbformat": 4,
 "nbformat_minor": 2
}
